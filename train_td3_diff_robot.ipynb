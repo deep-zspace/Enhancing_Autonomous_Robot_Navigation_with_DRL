{
 "cells": [
  {
   "cell_type": "code",
   "execution_count": 1,
   "metadata": {},
   "outputs": [],
   "source": [
    "%load_ext autoreload\n",
    "%autoreload 2\n",
    "\n",
    "from stable_baselines3 import TD3\n",
    "from stable_baselines3.td3.policies import MlpPolicy\n",
    "from stable_baselines3.common.noise import NormalActionNoise\n",
    "from stable_baselines3.common.evaluation import evaluate_policy\n",
    "import numpy as np\n",
    "import gym\n",
    "from tqdm.auto import tqdm\n",
    "from envs.escape_room_continuous_space_env import EscapeRoomEnv\n"
   ]
  },
  {
   "cell_type": "code",
   "execution_count": 2,
   "metadata": {},
   "outputs": [],
   "source": [
    "class CustomEnvWrapper(gym.Wrapper):\n",
    "    def __init__(self, env):\n",
    "        super().__init__(env)\n",
    "\n",
    "    def reset(self, **kwargs):\n",
    "        observation, info = self.env.reset(**kwargs)\n",
    "        return self._process_observation(observation)\n",
    "\n",
    "    def step(self, action):\n",
    "        observation, reward, terminated, truncated, info = self.env.step(action)\n",
    "        done = terminated or truncated\n",
    "        return self._process_observation(observation), reward, done, info\n",
    "\n",
    "    def _process_observation(self, observation):\n",
    "        if isinstance(observation, tuple):\n",
    "            return np.concatenate(observation)\n",
    "        else:\n",
    "            return observation\n"
   ]
  },
  {
   "cell_type": "code",
   "execution_count": 3,
   "metadata": {},
   "outputs": [
    {
     "name": "stderr",
     "output_type": "stream",
     "text": [
      "/home/deep/.local/lib/python3.10/site-packages/gym/spaces/box.py:127: UserWarning: \u001b[33mWARN: Box bound precision lowered by casting to float32\u001b[0m\n",
      "  logger.warn(f\"Box bound precision lowered by casting to {self.dtype}\")\n",
      "/home/deep/.local/lib/python3.10/site-packages/stable_baselines3/common/vec_env/patch_gym.py:49: UserWarning: You provided an OpenAI Gym environment. We strongly recommend transitioning to Gymnasium environments. Stable-Baselines3 is automatically wrapping your environments in a compatibility layer, which could potentially cause issues.\n",
      "  warnings.warn(\n"
     ]
    },
    {
     "data": {
      "application/vnd.jupyter.widget-view+json": {
       "model_id": "e4c96b90d93548a7bc4666d9fd744b32",
       "version_major": 2,
       "version_minor": 0
      },
      "text/plain": [
       "Training Progress:   0%|          | 0/10 [00:00<?, ?it/s]"
      ]
     },
     "metadata": {},
     "output_type": "display_data"
    },
    {
     "name": "stdout",
     "output_type": "stream",
     "text": [
      "Training completed and model saved., Std reward: 0.0\n"
     ]
    }
   ],
   "source": [
    "# Initialize the environment and wrap it\n",
    "env = CustomEnvWrapper(EscapeRoomEnv(max_steps_per_episode=3000, goal=(550, 450), delta=15))\n",
    "\n",
    "# Set up action noise for exploration\n",
    "n_actions = env.action_space.shape[-1]\n",
    "action_noise = NormalActionNoise(mean=np.zeros(n_actions), sigma=0.1 * np.ones(n_actions))\n",
    "\n",
    "# Initialize the TD3 model\n",
    "model = TD3(\"MlpPolicy\", env, action_noise=action_noise, verbose=0)\n",
    "\n",
    "# Set up tqdm progress bar\n",
    "total_episodes = 500\n",
    "progress_bar = tqdm(total=total_episodes, desc=\"Training Progress\", leave=False)\n",
    "\n",
    "# Path for saving the model\n",
    "model_path = \"./tmp/td3/td3_escape_room_checkpoint.zip\"\n",
    "\n",
    "# Train the model\n",
    "for episode in range(total_episodes):\n",
    "    # Perform a training step\n",
    "    model.learn(total_timesteps=1000)  # Adjust total_timesteps as needed\n",
    "\n",
    "    # Optionally evaluate the policy every 10 episodes\n",
    "    if episode % 10 == 0:\n",
    "        mean_reward, std_reward = evaluate_policy(model, model.get_env(), n_eval_episodes=10)\n",
    "        print(f\"Episode: {episode}, Mean reward: {mean_reward}, Std reward: {std_reward}\", end='\\r')\n",
    "\n",
    "    # Save the model every 10% of the episodes, overwrite the same file\n",
    "    if (episode + 1) % (total_episodes // 10) == 0:\n",
    "        model.save(model_path)\n",
    "\n",
    "    # Update progress bar\n",
    "    progress_bar.update(1)\n",
    "\n",
    "# Save the final model\n",
    "model.save(\"./tmp/td3/td3_escape_room_final.zip\")\n",
    "\n",
    "# Close the environment\n",
    "env.close()\n",
    "\n",
    "print(\"Training completed and model saved.\")"
   ]
  },
  {
   "cell_type": "code",
   "execution_count": 7,
   "metadata": {},
   "outputs": [
    {
     "name": "stdout",
     "output_type": "stream",
     "text": [
      "Evaluated model on 20 episodes: Mean reward = -70.78408718109131, Std reward = 0.0\n",
      "Evaluation and visualization completed.\n"
     ]
    }
   ],
   "source": [
    "# Initialize the environment and wrap it\n",
    "env = CustomEnvWrapper(EscapeRoomEnv(max_steps_per_episode=3000, goal=(550, 450), delta=15))\n",
    "\n",
    "# Load the trained model\n",
    "model_path = \"./tmp/td3/td3_escape_room_final.zip\"\n",
    "model = TD3.load(model_path, env=env)\n",
    "\n",
    "# Evaluate the model\n",
    "mean_reward, std_reward = evaluate_policy(model, env, n_eval_episodes=20, deterministic=True)\n",
    "print(f\"Evaluated model on {20} episodes: Mean reward = {mean_reward}, Std reward = {std_reward}\")\n",
    "\n",
    "# Optionally: Visualize the agent's performance\n",
    "try:\n",
    "    for _ in range(5):  # Run 5 episodes\n",
    "        obs = env.reset()\n",
    "        done = False\n",
    "        while not done:\n",
    "            action, _states = model.predict(obs, deterministic=True)\n",
    "            obs, reward, done, info = env.step(action)\n",
    "            env.render()  # Render the environment to visualize the agent's behavior\n",
    "finally:\n",
    "    env.close()  # Ensure the environment is closed properly\n",
    "\n",
    "print(\"Evaluation and visualization completed.\")"
   ]
  },
  {
   "cell_type": "code",
   "execution_count": null,
   "metadata": {},
   "outputs": [],
   "source": []
  }
 ],
 "metadata": {
  "kernelspec": {
   "display_name": "Python 3",
   "language": "python",
   "name": "python3"
  },
  "language_info": {
   "codemirror_mode": {
    "name": "ipython",
    "version": 3
   },
   "file_extension": ".py",
   "mimetype": "text/x-python",
   "name": "python",
   "nbconvert_exporter": "python",
   "pygments_lexer": "ipython3",
   "version": "3.10.12"
  }
 },
 "nbformat": 4,
 "nbformat_minor": 2
}
